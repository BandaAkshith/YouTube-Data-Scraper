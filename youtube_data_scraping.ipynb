{
  "nbformat": 4,
  "nbformat_minor": 0,
  "metadata": {
    "colab": {
      "provenance": [],
      "authorship_tag": "ABX9TyOcmerzlvt1sjuKwd311jki",
      "include_colab_link": true
    },
    "kernelspec": {
      "name": "python3",
      "display_name": "Python 3"
    },
    "language_info": {
      "name": "python"
    }
  },
  "cells": [
    {
      "cell_type": "markdown",
      "metadata": {
        "id": "view-in-github",
        "colab_type": "text"
      },
      "source": [
        "<a href=\"https://colab.research.google.com/github/BandaAkshith/YouTube-Data-Scraper/blob/main/youtube_data_scraping.ipynb\" target=\"_parent\"><img src=\"https://colab.research.google.com/assets/colab-badge.svg\" alt=\"Open In Colab\"/></a>"
      ]
    },
    {
      "cell_type": "code",
      "source": [
        "!pip install youtube-transcript-api\n",
        "!pip install pytz"
      ],
      "metadata": {
        "colab": {
          "base_uri": "https://localhost:8080/"
        },
        "id": "h05D4pqY8-5u",
        "outputId": "de6a995e-4108-4d5b-9a57-1c1a1b299a26"
      },
      "execution_count": 17,
      "outputs": [
        {
          "output_type": "stream",
          "name": "stdout",
          "text": [
            "Requirement already satisfied: youtube-transcript-api in /usr/local/lib/python3.10/dist-packages (0.6.3)\n",
            "Requirement already satisfied: defusedxml<0.8.0,>=0.7.1 in /usr/local/lib/python3.10/dist-packages (from youtube-transcript-api) (0.7.1)\n",
            "Requirement already satisfied: requests in /usr/local/lib/python3.10/dist-packages (from youtube-transcript-api) (2.32.3)\n",
            "Requirement already satisfied: charset-normalizer<4,>=2 in /usr/local/lib/python3.10/dist-packages (from requests->youtube-transcript-api) (3.4.0)\n",
            "Requirement already satisfied: idna<4,>=2.5 in /usr/local/lib/python3.10/dist-packages (from requests->youtube-transcript-api) (3.10)\n",
            "Requirement already satisfied: urllib3<3,>=1.21.1 in /usr/local/lib/python3.10/dist-packages (from requests->youtube-transcript-api) (2.2.3)\n",
            "Requirement already satisfied: certifi>=2017.4.17 in /usr/local/lib/python3.10/dist-packages (from requests->youtube-transcript-api) (2024.12.14)\n",
            "Requirement already satisfied: pytz in /usr/local/lib/python3.10/dist-packages (2024.2)\n"
          ]
        }
      ]
    },
    {
      "cell_type": "code",
      "source": [
        "import os\n",
        "from getpass import getpass\n",
        "os.environ[\"YOUTUBE_DATA_API_v3\"] = getpass()"
      ],
      "metadata": {
        "colab": {
          "base_uri": "https://localhost:8080/"
        },
        "id": "y4kJ4UAuEL2u",
        "outputId": "424e5fa6-4b0d-4dbf-a45f-1e4718caf875"
      },
      "execution_count": 18,
      "outputs": [
        {
          "name": "stdout",
          "output_type": "stream",
          "text": [
            "··········\n"
          ]
        }
      ]
    },
    {
      "cell_type": "code",
      "execution_count": 20,
      "metadata": {
        "colab": {
          "base_uri": "https://localhost:8080/"
        },
        "id": "nw-cAHTu8pJh",
        "outputId": "ecfe14c5-bff2-457c-c079-313a23ae0717"
      },
      "outputs": [
        {
          "name": "stdout",
          "output_type": "stream",
          "text": [
            "Enter the genre: music\n",
            "Enter the number of videos to fetch: 500\n"
          ]
        }
      ],
      "source": [
        "import os\n",
        "import pandas as pd\n",
        "import datetime\n",
        "import logging\n",
        "import pytz\n",
        "from googleapiclient.discovery import build\n",
        "from googleapiclient.errors import HttpError\n",
        "from youtube_transcript_api import YouTubeTranscriptApi\n",
        "from youtube_transcript_api._errors import TranscriptsDisabled, NoTranscriptFound\n",
        "\n",
        "# Set up logging\n",
        "logging.basicConfig(level=logging.INFO, format='%(asctime)s - %(levelname)s - %(message)s')\n",
        "\n",
        "# Constants\n",
        "YOUTUBE_API = os.environ.get(\"YOUTUBE_DATA_API_v3\", \"YOUR_API_KEY\")\n",
        "YOUTUBE_API_SERVICE_NAME = \"youtube\"\n",
        "YOUTUBE_API_VERSION = \"v3\"\n",
        "\n",
        "# Initialize YouTube API client\n",
        "youtube = build(YOUTUBE_API_SERVICE_NAME, YOUTUBE_API_VERSION, developerKey=YOUTUBE_API)\n",
        "\n",
        "\n",
        "def fetch_video_ids(genre, max_results=10):\n",
        "    \"\"\"\n",
        "    Fetches video IDs for a given genre using the YouTube Data API.\n",
        "    \"\"\"\n",
        "    video_ids = []\n",
        "    next_page_token = None\n",
        "\n",
        "    while len(video_ids) < max_results:\n",
        "        try:\n",
        "            search_response = youtube.search().list(\n",
        "                q=genre,\n",
        "                type=\"video\",\n",
        "                part=\"id,snippet\",\n",
        "                maxResults=min(50, max_results - len(video_ids)),\n",
        "                pageToken=next_page_token,\n",
        "                order=\"relevance\"\n",
        "            ).execute()\n",
        "\n",
        "            for item in search_response['items']:\n",
        "                video_ids.append(item['id']['videoId'])\n",
        "\n",
        "            next_page_token = search_response.get('nextPageToken')\n",
        "            if not next_page_token:\n",
        "                break\n",
        "        except HttpError as e:\n",
        "            if e.resp.status == 403:\n",
        "                logging.error(\"Quota exceeded! Try again later or reduce the max_results value.\")\n",
        "                break\n",
        "            else:\n",
        "                logging.error(f\"An error occurred: {e}\")\n",
        "                break\n",
        "\n",
        "    return video_ids\n",
        "\n",
        "\n",
        "def fetch_video_details(video_id):\n",
        "    \"\"\"\n",
        "    Fetches details for a single video using the YouTube Data API.\n",
        "    \"\"\"\n",
        "    try:\n",
        "        video_response = youtube.videos().list(\n",
        "            part=\"snippet,statistics,contentDetails,topicDetails,recordingDetails\",\n",
        "            id=video_id\n",
        "        ).execute()\n",
        "\n",
        "        if not video_response['items']:\n",
        "            return None\n",
        "\n",
        "        video_data = video_response['items'][0]\n",
        "        snippet = video_data.get('snippet', {})\n",
        "        statistics = video_data.get('statistics', {})\n",
        "        content_details = video_data.get('contentDetails', {})\n",
        "        topic_details = video_data.get('topicDetails', {})\n",
        "        recording_details = video_data.get('recordingDetails', {})\n",
        "\n",
        "        captions_available, captions_text = check_captions(video_id)\n",
        "\n",
        "        return {\n",
        "            \"Video URL\": f\"https://www.youtube.com/watch?v={video_id}\",\n",
        "            \"Title\": snippet.get(\"title\", \"\"),\n",
        "            \"Description\": snippet.get(\"description\", \"\"),\n",
        "            \"Channel Title\": snippet.get(\"channelTitle\", \"\"),\n",
        "            \"Keyword Tags\": \",\".join(snippet.get(\"tags\", [])) if snippet.get(\"tags\") else \"\",\n",
        "            \"YouTube Video Category\": snippet.get(\"categoryId\", \"\"),\n",
        "            \"Topic Details\": \",\".join(topic_details.get(\"topicCategories\", [])) if topic_details else \"\",\n",
        "            \"Video Published at\": snippet.get(\"publishedAt\", \"\"),\n",
        "            \"Video Duration\": content_details.get(\"duration\", \"\"),\n",
        "            \"View Count\": statistics.get(\"viewCount\", 0),\n",
        "            \"Comment Count\": statistics.get(\"commentCount\", 0),\n",
        "            \"Captions Available\": captions_available,\n",
        "            \"Caption Text\": captions_text,\n",
        "            \"Location of Recording\": recording_details.get(\"locationDescription\", \"\")\n",
        "        }\n",
        "    except HttpError as e:\n",
        "        logging.error(f\"An error occurred while fetching video details: {e}\")\n",
        "        return None\n",
        "\n",
        "\n",
        "def check_captions(video_id):\n",
        "    \"\"\"\n",
        "    Checks if captions are available and fetches them if possible.\n",
        "    \"\"\"\n",
        "    try:\n",
        "        captions = YouTubeTranscriptApi.get_transcript(video_id)\n",
        "        captions_text = \" \".join([item['text'] for item in captions])\n",
        "        return True, captions_text\n",
        "    except (TranscriptsDisabled, NoTranscriptFound):\n",
        "        return False, \"\"\n",
        "    except Exception as e:\n",
        "        logging.warning(f\"An error occurred while fetching captions for {video_id}: {e}\")\n",
        "        return False, \"\"\n",
        "\n",
        "\n",
        "def main():\n",
        "    # Input genre and number of videos dynamically\n",
        "    genre = input(\"Enter the genre: \")\n",
        "    max_results = int(input(\"Enter the number of videos to fetch: \"))\n",
        "\n",
        "    # Fetch video IDs\n",
        "    video_ids = fetch_video_ids(genre, max_results=max_results)\n",
        "    logging.info(f\"Fetched {len(video_ids)} video IDs for genre: {genre}\")\n",
        "\n",
        "    # Collect details for all videos\n",
        "    video_data = []\n",
        "    for idx, video_id in enumerate(video_ids):\n",
        "        try:\n",
        "            logging.info(f\"Processing video {idx + 1}/{len(video_ids)}: {video_id}\")\n",
        "            details = fetch_video_details(video_id)\n",
        "            if details:\n",
        "                video_data.append(details)\n",
        "        except Exception as e:\n",
        "            logging.error(f\"Failed to process video {video_id}: {e}\")\n",
        "\n",
        "    # Save data to CSV\n",
        "    ist = pytz.timezone('Asia/Kolkata')  # Set IST timezone\n",
        "    current_time = datetime.datetime.now(ist)  # Get current time in IST\n",
        "    output_file = f\"{genre.replace(' ', '_')}_videos_{current_time.strftime('%y-%m-%d_%H:%M:%S')}.csv\"\n",
        "    df = pd.DataFrame(video_data)\n",
        "    df.to_csv(output_file, index=False, encoding='utf-8-sig')\n",
        "\n",
        "    logging.info(f\"Data saved to {output_file}\")\n",
        "\n",
        "\n",
        "if __name__ == \"__main__\":\n",
        "    main()\n"
      ]
    }
  ]
}